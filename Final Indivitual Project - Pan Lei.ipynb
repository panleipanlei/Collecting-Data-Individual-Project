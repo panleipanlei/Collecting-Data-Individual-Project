{
 "cells": [
  {
   "cell_type": "markdown",
   "id": "12b018e7",
   "metadata": {},
   "source": [
    "Final Individual Projects - Pan Lei - S5179270"
   ]
  },
  {
   "cell_type": "markdown",
   "id": "39d97824",
   "metadata": {},
   "source": [
    "1. Read Files"
   ]
  },
  {
   "cell_type": "code",
   "execution_count": 2,
   "id": "e5eaacaf",
   "metadata": {},
   "outputs": [
    {
     "data": {
      "text/html": [
       "<div>\n",
       "<style scoped>\n",
       "    .dataframe tbody tr th:only-of-type {\n",
       "        vertical-align: middle;\n",
       "    }\n",
       "\n",
       "    .dataframe tbody tr th {\n",
       "        vertical-align: top;\n",
       "    }\n",
       "\n",
       "    .dataframe thead th {\n",
       "        text-align: right;\n",
       "    }\n",
       "</style>\n",
       "<table border=\"1\" class=\"dataframe\">\n",
       "  <thead>\n",
       "    <tr style=\"text-align: right;\">\n",
       "      <th></th>\n",
       "      <th>id</th>\n",
       "      <th>name</th>\n",
       "      <th>gender</th>\n",
       "      <th>dates</th>\n",
       "      <th>yearOfBirth</th>\n",
       "      <th>yearOfDeath</th>\n",
       "      <th>placeOfBirth</th>\n",
       "      <th>placeOfDeath</th>\n",
       "      <th>url</th>\n",
       "    </tr>\n",
       "  </thead>\n",
       "  <tbody>\n",
       "    <tr>\n",
       "      <th>0</th>\n",
       "      <td>10093</td>\n",
       "      <td>Abakanowicz, Magdalena</td>\n",
       "      <td>Female</td>\n",
       "      <td>born 1930</td>\n",
       "      <td>1930.0</td>\n",
       "      <td>NaN</td>\n",
       "      <td>Polska</td>\n",
       "      <td>NaN</td>\n",
       "      <td>http://www.tate.org.uk/art/artists/magdalena-a...</td>\n",
       "    </tr>\n",
       "    <tr>\n",
       "      <th>1</th>\n",
       "      <td>0</td>\n",
       "      <td>Abbey, Edwin Austin</td>\n",
       "      <td>Male</td>\n",
       "      <td>1852–1911</td>\n",
       "      <td>1852.0</td>\n",
       "      <td>1911.0</td>\n",
       "      <td>Philadelphia, United States</td>\n",
       "      <td>London, United Kingdom</td>\n",
       "      <td>http://www.tate.org.uk/art/artists/edwin-austi...</td>\n",
       "    </tr>\n",
       "    <tr>\n",
       "      <th>2</th>\n",
       "      <td>2756</td>\n",
       "      <td>Abbott, Berenice</td>\n",
       "      <td>Female</td>\n",
       "      <td>1898–1991</td>\n",
       "      <td>1898.0</td>\n",
       "      <td>1991.0</td>\n",
       "      <td>Springfield, United States</td>\n",
       "      <td>Monson, United States</td>\n",
       "      <td>http://www.tate.org.uk/art/artists/berenice-ab...</td>\n",
       "    </tr>\n",
       "    <tr>\n",
       "      <th>3</th>\n",
       "      <td>1</td>\n",
       "      <td>Abbott, Lemuel Francis</td>\n",
       "      <td>Male</td>\n",
       "      <td>1760–1803</td>\n",
       "      <td>1760.0</td>\n",
       "      <td>1803.0</td>\n",
       "      <td>Leicestershire, United Kingdom</td>\n",
       "      <td>London, United Kingdom</td>\n",
       "      <td>http://www.tate.org.uk/art/artists/lemuel-fran...</td>\n",
       "    </tr>\n",
       "    <tr>\n",
       "      <th>4</th>\n",
       "      <td>622</td>\n",
       "      <td>Abrahams, Ivor</td>\n",
       "      <td>Male</td>\n",
       "      <td>born 1935</td>\n",
       "      <td>1935.0</td>\n",
       "      <td>NaN</td>\n",
       "      <td>Wigan, United Kingdom</td>\n",
       "      <td>NaN</td>\n",
       "      <td>http://www.tate.org.uk/art/artists/ivor-abraha...</td>\n",
       "    </tr>\n",
       "    <tr>\n",
       "      <th>...</th>\n",
       "      <td>...</td>\n",
       "      <td>...</td>\n",
       "      <td>...</td>\n",
       "      <td>...</td>\n",
       "      <td>...</td>\n",
       "      <td>...</td>\n",
       "      <td>...</td>\n",
       "      <td>...</td>\n",
       "      <td>...</td>\n",
       "    </tr>\n",
       "    <tr>\n",
       "      <th>3527</th>\n",
       "      <td>12542</td>\n",
       "      <td>Zorio, Gilberto</td>\n",
       "      <td>Male</td>\n",
       "      <td>born 1944</td>\n",
       "      <td>1944.0</td>\n",
       "      <td>NaN</td>\n",
       "      <td>Andorno Micca, Italia</td>\n",
       "      <td>NaN</td>\n",
       "      <td>http://www.tate.org.uk/art/artists/gilberto-zo...</td>\n",
       "    </tr>\n",
       "    <tr>\n",
       "      <th>3528</th>\n",
       "      <td>2186</td>\n",
       "      <td>Zox, Larry</td>\n",
       "      <td>Male</td>\n",
       "      <td>born 1936</td>\n",
       "      <td>1936.0</td>\n",
       "      <td>NaN</td>\n",
       "      <td>Des Moines, United States</td>\n",
       "      <td>NaN</td>\n",
       "      <td>http://www.tate.org.uk/art/artists/larry-zox-2186</td>\n",
       "    </tr>\n",
       "    <tr>\n",
       "      <th>3529</th>\n",
       "      <td>621</td>\n",
       "      <td>Zuccarelli, Francesco</td>\n",
       "      <td>Male</td>\n",
       "      <td>1702–1788</td>\n",
       "      <td>1702.0</td>\n",
       "      <td>1788.0</td>\n",
       "      <td>Italia</td>\n",
       "      <td>Firenze</td>\n",
       "      <td>http://www.tate.org.uk/art/artists/francesco-z...</td>\n",
       "    </tr>\n",
       "    <tr>\n",
       "      <th>3530</th>\n",
       "      <td>2187</td>\n",
       "      <td>Zuloaga, Ignacio</td>\n",
       "      <td>Male</td>\n",
       "      <td>1870–1945</td>\n",
       "      <td>1870.0</td>\n",
       "      <td>1945.0</td>\n",
       "      <td>España</td>\n",
       "      <td>España</td>\n",
       "      <td>http://www.tate.org.uk/art/artists/ignacio-zul...</td>\n",
       "    </tr>\n",
       "    <tr>\n",
       "      <th>3531</th>\n",
       "      <td>2188</td>\n",
       "      <td>Zyw, Aleksander</td>\n",
       "      <td>Male</td>\n",
       "      <td>1905–1995</td>\n",
       "      <td>1905.0</td>\n",
       "      <td>1995.0</td>\n",
       "      <td>Polska</td>\n",
       "      <td>NaN</td>\n",
       "      <td>http://www.tate.org.uk/art/artists/aleksander-...</td>\n",
       "    </tr>\n",
       "  </tbody>\n",
       "</table>\n",
       "<p>3532 rows × 9 columns</p>\n",
       "</div>"
      ],
      "text/plain": [
       "         id                    name  gender      dates  yearOfBirth  \\\n",
       "0     10093  Abakanowicz, Magdalena  Female  born 1930       1930.0   \n",
       "1         0     Abbey, Edwin Austin    Male  1852–1911       1852.0   \n",
       "2      2756        Abbott, Berenice  Female  1898–1991       1898.0   \n",
       "3         1  Abbott, Lemuel Francis    Male  1760–1803       1760.0   \n",
       "4       622          Abrahams, Ivor    Male  born 1935       1935.0   \n",
       "...     ...                     ...     ...        ...          ...   \n",
       "3527  12542         Zorio, Gilberto    Male  born 1944       1944.0   \n",
       "3528   2186              Zox, Larry    Male  born 1936       1936.0   \n",
       "3529    621   Zuccarelli, Francesco    Male  1702–1788       1702.0   \n",
       "3530   2187        Zuloaga, Ignacio    Male  1870–1945       1870.0   \n",
       "3531   2188         Zyw, Aleksander    Male  1905–1995       1905.0   \n",
       "\n",
       "      yearOfDeath                    placeOfBirth            placeOfDeath  \\\n",
       "0             NaN                          Polska                     NaN   \n",
       "1          1911.0     Philadelphia, United States  London, United Kingdom   \n",
       "2          1991.0      Springfield, United States   Monson, United States   \n",
       "3          1803.0  Leicestershire, United Kingdom  London, United Kingdom   \n",
       "4             NaN           Wigan, United Kingdom                     NaN   \n",
       "...           ...                             ...                     ...   \n",
       "3527          NaN           Andorno Micca, Italia                     NaN   \n",
       "3528          NaN       Des Moines, United States                     NaN   \n",
       "3529       1788.0                          Italia                 Firenze   \n",
       "3530       1945.0                          España                  España   \n",
       "3531       1995.0                          Polska                     NaN   \n",
       "\n",
       "                                                    url  \n",
       "0     http://www.tate.org.uk/art/artists/magdalena-a...  \n",
       "1     http://www.tate.org.uk/art/artists/edwin-austi...  \n",
       "2     http://www.tate.org.uk/art/artists/berenice-ab...  \n",
       "3     http://www.tate.org.uk/art/artists/lemuel-fran...  \n",
       "4     http://www.tate.org.uk/art/artists/ivor-abraha...  \n",
       "...                                                 ...  \n",
       "3527  http://www.tate.org.uk/art/artists/gilberto-zo...  \n",
       "3528  http://www.tate.org.uk/art/artists/larry-zox-2186  \n",
       "3529  http://www.tate.org.uk/art/artists/francesco-z...  \n",
       "3530  http://www.tate.org.uk/art/artists/ignacio-zul...  \n",
       "3531  http://www.tate.org.uk/art/artists/aleksander-...  \n",
       "\n",
       "[3532 rows x 9 columns]"
      ]
     },
     "execution_count": 2,
     "metadata": {},
     "output_type": "execute_result"
    }
   ],
   "source": [
    "import pandas as pd\n",
    "\n",
    "artist_df = pd.read_csv('artist_data.csv', delimiter = \",\", encoding = 'utf-8')\n",
    "artist_df"
   ]
  },
  {
   "cell_type": "markdown",
   "id": "153619e4",
   "metadata": {},
   "source": [
    "2. Display Random Sample"
   ]
  },
  {
   "cell_type": "code",
   "execution_count": 3,
   "id": "55a92661",
   "metadata": {},
   "outputs": [
    {
     "data": {
      "text/html": [
       "<div>\n",
       "<style scoped>\n",
       "    .dataframe tbody tr th:only-of-type {\n",
       "        vertical-align: middle;\n",
       "    }\n",
       "\n",
       "    .dataframe tbody tr th {\n",
       "        vertical-align: top;\n",
       "    }\n",
       "\n",
       "    .dataframe thead th {\n",
       "        text-align: right;\n",
       "    }\n",
       "</style>\n",
       "<table border=\"1\" class=\"dataframe\">\n",
       "  <thead>\n",
       "    <tr style=\"text-align: right;\">\n",
       "      <th></th>\n",
       "      <th>id</th>\n",
       "      <th>name</th>\n",
       "      <th>gender</th>\n",
       "      <th>dates</th>\n",
       "      <th>yearOfBirth</th>\n",
       "      <th>yearOfDeath</th>\n",
       "      <th>placeOfBirth</th>\n",
       "      <th>placeOfDeath</th>\n",
       "      <th>url</th>\n",
       "    </tr>\n",
       "  </thead>\n",
       "  <tbody>\n",
       "    <tr>\n",
       "      <th>1910</th>\n",
       "      <td>13769</td>\n",
       "      <td>Leirner, Jac</td>\n",
       "      <td>Female</td>\n",
       "      <td>born 1961</td>\n",
       "      <td>1961.0</td>\n",
       "      <td>NaN</td>\n",
       "      <td>São Paulo, Brasil</td>\n",
       "      <td>NaN</td>\n",
       "      <td>http://www.tate.org.uk/art/artists/jac-leirner...</td>\n",
       "    </tr>\n",
       "    <tr>\n",
       "      <th>845</th>\n",
       "      <td>147</td>\n",
       "      <td>Deverell, Walter Howell</td>\n",
       "      <td>Male</td>\n",
       "      <td>1827–1854</td>\n",
       "      <td>1827.0</td>\n",
       "      <td>1854.0</td>\n",
       "      <td>Charlottesville, United States</td>\n",
       "      <td>London, United Kingdom</td>\n",
       "      <td>http://www.tate.org.uk/art/artists/walter-howe...</td>\n",
       "    </tr>\n",
       "    <tr>\n",
       "      <th>1799</th>\n",
       "      <td>1449</td>\n",
       "      <td>Kupka, Frantisek</td>\n",
       "      <td>Male</td>\n",
       "      <td>1871–1957</td>\n",
       "      <td>1871.0</td>\n",
       "      <td>1957.0</td>\n",
       "      <td>Opocno, Ceská Republika</td>\n",
       "      <td>Puteaux, France</td>\n",
       "      <td>http://www.tate.org.uk/art/artists/frantisek-k...</td>\n",
       "    </tr>\n",
       "    <tr>\n",
       "      <th>515</th>\n",
       "      <td>859</td>\n",
       "      <td>Cardoso, José, Junior</td>\n",
       "      <td>Male</td>\n",
       "      <td>1861–1947</td>\n",
       "      <td>1861.0</td>\n",
       "      <td>1947.0</td>\n",
       "      <td>Coimbra, Portugal</td>\n",
       "      <td>Rio de Janeiro, Brasil</td>\n",
       "      <td>http://www.tate.org.uk/art/artists/jose-cardos...</td>\n",
       "    </tr>\n",
       "    <tr>\n",
       "      <th>72</th>\n",
       "      <td>652</td>\n",
       "      <td>Anrep, Boris</td>\n",
       "      <td>Male</td>\n",
       "      <td>1883–1969</td>\n",
       "      <td>1883.0</td>\n",
       "      <td>1969.0</td>\n",
       "      <td>Sankt-Peterburg, Rossiya</td>\n",
       "      <td>NaN</td>\n",
       "      <td>http://www.tate.org.uk/art/artists/boris-anrep...</td>\n",
       "    </tr>\n",
       "    <tr>\n",
       "      <th>726</th>\n",
       "      <td>122</td>\n",
       "      <td>Creswick, Thomas</td>\n",
       "      <td>Male</td>\n",
       "      <td>1811–1869</td>\n",
       "      <td>1811.0</td>\n",
       "      <td>1869.0</td>\n",
       "      <td>Sheffield, United Kingdom</td>\n",
       "      <td>London, United Kingdom</td>\n",
       "      <td>http://www.tate.org.uk/art/artists/thomas-cres...</td>\n",
       "    </tr>\n",
       "    <tr>\n",
       "      <th>2198</th>\n",
       "      <td>1637</td>\n",
       "      <td>Milne, Malcolm</td>\n",
       "      <td>Male</td>\n",
       "      <td>1887–1954</td>\n",
       "      <td>1887.0</td>\n",
       "      <td>1954.0</td>\n",
       "      <td>England, United Kingdom</td>\n",
       "      <td>Oxford</td>\n",
       "      <td>http://www.tate.org.uk/art/artists/malcolm-mil...</td>\n",
       "    </tr>\n",
       "    <tr>\n",
       "      <th>2777</th>\n",
       "      <td>7965</td>\n",
       "      <td>Russian School</td>\n",
       "      <td>NaN</td>\n",
       "      <td>NaN</td>\n",
       "      <td>NaN</td>\n",
       "      <td>NaN</td>\n",
       "      <td>NaN</td>\n",
       "      <td>NaN</td>\n",
       "      <td>http://www.tate.org.uk/art/artists/russian-sch...</td>\n",
       "    </tr>\n",
       "    <tr>\n",
       "      <th>1545</th>\n",
       "      <td>1323</td>\n",
       "      <td>Hughes-Stanton, Blair</td>\n",
       "      <td>Male</td>\n",
       "      <td>1902–1981</td>\n",
       "      <td>1902.0</td>\n",
       "      <td>1981.0</td>\n",
       "      <td>London, United Kingdom</td>\n",
       "      <td>NaN</td>\n",
       "      <td>http://www.tate.org.uk/art/artists/blair-hughe...</td>\n",
       "    </tr>\n",
       "    <tr>\n",
       "      <th>3412</th>\n",
       "      <td>12144</td>\n",
       "      <td>Wilkes, Cathy</td>\n",
       "      <td>Female</td>\n",
       "      <td>born 1966</td>\n",
       "      <td>1966.0</td>\n",
       "      <td>NaN</td>\n",
       "      <td>Belfast, United Kingdom</td>\n",
       "      <td>NaN</td>\n",
       "      <td>http://www.tate.org.uk/art/artists/cathy-wilke...</td>\n",
       "    </tr>\n",
       "  </tbody>\n",
       "</table>\n",
       "</div>"
      ],
      "text/plain": [
       "         id                     name  gender      dates  yearOfBirth  \\\n",
       "1910  13769             Leirner, Jac  Female  born 1961       1961.0   \n",
       "845     147  Deverell, Walter Howell    Male  1827–1854       1827.0   \n",
       "1799   1449         Kupka, Frantisek    Male  1871–1957       1871.0   \n",
       "515     859    Cardoso, José, Junior    Male  1861–1947       1861.0   \n",
       "72      652             Anrep, Boris    Male  1883–1969       1883.0   \n",
       "726     122         Creswick, Thomas    Male  1811–1869       1811.0   \n",
       "2198   1637           Milne, Malcolm    Male  1887–1954       1887.0   \n",
       "2777   7965           Russian School     NaN        NaN          NaN   \n",
       "1545   1323    Hughes-Stanton, Blair    Male  1902–1981       1902.0   \n",
       "3412  12144            Wilkes, Cathy  Female  born 1966       1966.0   \n",
       "\n",
       "      yearOfDeath                    placeOfBirth            placeOfDeath  \\\n",
       "1910          NaN               São Paulo, Brasil                     NaN   \n",
       "845        1854.0  Charlottesville, United States  London, United Kingdom   \n",
       "1799       1957.0         Opocno, Ceská Republika         Puteaux, France   \n",
       "515        1947.0               Coimbra, Portugal  Rio de Janeiro, Brasil   \n",
       "72         1969.0        Sankt-Peterburg, Rossiya                     NaN   \n",
       "726        1869.0       Sheffield, United Kingdom  London, United Kingdom   \n",
       "2198       1954.0         England, United Kingdom                  Oxford   \n",
       "2777          NaN                             NaN                     NaN   \n",
       "1545       1981.0          London, United Kingdom                     NaN   \n",
       "3412          NaN         Belfast, United Kingdom                     NaN   \n",
       "\n",
       "                                                    url  \n",
       "1910  http://www.tate.org.uk/art/artists/jac-leirner...  \n",
       "845   http://www.tate.org.uk/art/artists/walter-howe...  \n",
       "1799  http://www.tate.org.uk/art/artists/frantisek-k...  \n",
       "515   http://www.tate.org.uk/art/artists/jose-cardos...  \n",
       "72    http://www.tate.org.uk/art/artists/boris-anrep...  \n",
       "726   http://www.tate.org.uk/art/artists/thomas-cres...  \n",
       "2198  http://www.tate.org.uk/art/artists/malcolm-mil...  \n",
       "2777  http://www.tate.org.uk/art/artists/russian-sch...  \n",
       "1545  http://www.tate.org.uk/art/artists/blair-hughe...  \n",
       "3412  http://www.tate.org.uk/art/artists/cathy-wilke...  "
      ]
     },
     "execution_count": 3,
     "metadata": {},
     "output_type": "execute_result"
    }
   ],
   "source": [
    "artist_df.sample(10)"
   ]
  },
  {
   "cell_type": "markdown",
   "id": "a486e4d5",
   "metadata": {},
   "source": [
    "3. Examine Data"
   ]
  },
  {
   "cell_type": "code",
   "execution_count": 4,
   "id": "74220dd9",
   "metadata": {},
   "outputs": [
    {
     "data": {
      "text/plain": [
       "(3532, 9)"
      ]
     },
     "execution_count": 4,
     "metadata": {},
     "output_type": "execute_result"
    }
   ],
   "source": [
    "artist_df.shape"
   ]
  },
  {
   "cell_type": "markdown",
   "id": "cf41aa4a",
   "metadata": {},
   "source": [
    "4. Data Types"
   ]
  },
  {
   "cell_type": "code",
   "execution_count": 5,
   "id": "824a2fe6",
   "metadata": {},
   "outputs": [
    {
     "data": {
      "text/plain": [
       "id                int64\n",
       "name             object\n",
       "gender           object\n",
       "dates            object\n",
       "yearOfBirth     float64\n",
       "yearOfDeath     float64\n",
       "placeOfBirth     object\n",
       "placeOfDeath     object\n",
       "url              object\n",
       "dtype: object"
      ]
     },
     "execution_count": 5,
     "metadata": {},
     "output_type": "execute_result"
    }
   ],
   "source": [
    "artist_df.dtypes"
   ]
  },
  {
   "cell_type": "markdown",
   "id": "de0b1536",
   "metadata": {},
   "source": [
    "5. Check columns"
   ]
  },
  {
   "cell_type": "code",
   "execution_count": 6,
   "id": "084b8251",
   "metadata": {},
   "outputs": [
    {
     "data": {
      "text/plain": [
       "Index(['id', 'name', 'gender', 'dates', 'yearOfBirth', 'yearOfDeath',\n",
       "       'placeOfBirth', 'placeOfDeath', 'url'],\n",
       "      dtype='object')"
      ]
     },
     "execution_count": 6,
     "metadata": {},
     "output_type": "execute_result"
    }
   ],
   "source": [
    "artist_df.columns"
   ]
  },
  {
   "cell_type": "markdown",
   "id": "042a9b6f",
   "metadata": {},
   "source": [
    "6. Rename colume names"
   ]
  },
  {
   "cell_type": "code",
   "execution_count": 7,
   "id": "96031db7",
   "metadata": {
    "scrolled": true
   },
   "outputs": [
    {
     "data": {
      "text/html": [
       "<div>\n",
       "<style scoped>\n",
       "    .dataframe tbody tr th:only-of-type {\n",
       "        vertical-align: middle;\n",
       "    }\n",
       "\n",
       "    .dataframe tbody tr th {\n",
       "        vertical-align: top;\n",
       "    }\n",
       "\n",
       "    .dataframe thead th {\n",
       "        text-align: right;\n",
       "    }\n",
       "</style>\n",
       "<table border=\"1\" class=\"dataframe\">\n",
       "  <thead>\n",
       "    <tr style=\"text-align: right;\">\n",
       "      <th></th>\n",
       "      <th>ID</th>\n",
       "      <th>Name</th>\n",
       "      <th>Gender</th>\n",
       "      <th>Dates</th>\n",
       "      <th>YearOfBirth</th>\n",
       "      <th>YearOfDeath</th>\n",
       "      <th>PlaceOfBirth</th>\n",
       "      <th>PlaceOfDeath</th>\n",
       "      <th>URL</th>\n",
       "    </tr>\n",
       "  </thead>\n",
       "  <tbody>\n",
       "    <tr>\n",
       "      <th>0</th>\n",
       "      <td>10093</td>\n",
       "      <td>Abakanowicz, Magdalena</td>\n",
       "      <td>Female</td>\n",
       "      <td>born 1930</td>\n",
       "      <td>1930.0</td>\n",
       "      <td>NaN</td>\n",
       "      <td>Polska</td>\n",
       "      <td>NaN</td>\n",
       "      <td>http://www.tate.org.uk/art/artists/magdalena-a...</td>\n",
       "    </tr>\n",
       "    <tr>\n",
       "      <th>1</th>\n",
       "      <td>0</td>\n",
       "      <td>Abbey, Edwin Austin</td>\n",
       "      <td>Male</td>\n",
       "      <td>1852–1911</td>\n",
       "      <td>1852.0</td>\n",
       "      <td>1911.0</td>\n",
       "      <td>Philadelphia, United States</td>\n",
       "      <td>London, United Kingdom</td>\n",
       "      <td>http://www.tate.org.uk/art/artists/edwin-austi...</td>\n",
       "    </tr>\n",
       "    <tr>\n",
       "      <th>2</th>\n",
       "      <td>2756</td>\n",
       "      <td>Abbott, Berenice</td>\n",
       "      <td>Female</td>\n",
       "      <td>1898–1991</td>\n",
       "      <td>1898.0</td>\n",
       "      <td>1991.0</td>\n",
       "      <td>Springfield, United States</td>\n",
       "      <td>Monson, United States</td>\n",
       "      <td>http://www.tate.org.uk/art/artists/berenice-ab...</td>\n",
       "    </tr>\n",
       "    <tr>\n",
       "      <th>3</th>\n",
       "      <td>1</td>\n",
       "      <td>Abbott, Lemuel Francis</td>\n",
       "      <td>Male</td>\n",
       "      <td>1760–1803</td>\n",
       "      <td>1760.0</td>\n",
       "      <td>1803.0</td>\n",
       "      <td>Leicestershire, United Kingdom</td>\n",
       "      <td>London, United Kingdom</td>\n",
       "      <td>http://www.tate.org.uk/art/artists/lemuel-fran...</td>\n",
       "    </tr>\n",
       "    <tr>\n",
       "      <th>4</th>\n",
       "      <td>622</td>\n",
       "      <td>Abrahams, Ivor</td>\n",
       "      <td>Male</td>\n",
       "      <td>born 1935</td>\n",
       "      <td>1935.0</td>\n",
       "      <td>NaN</td>\n",
       "      <td>Wigan, United Kingdom</td>\n",
       "      <td>NaN</td>\n",
       "      <td>http://www.tate.org.uk/art/artists/ivor-abraha...</td>\n",
       "    </tr>\n",
       "    <tr>\n",
       "      <th>...</th>\n",
       "      <td>...</td>\n",
       "      <td>...</td>\n",
       "      <td>...</td>\n",
       "      <td>...</td>\n",
       "      <td>...</td>\n",
       "      <td>...</td>\n",
       "      <td>...</td>\n",
       "      <td>...</td>\n",
       "      <td>...</td>\n",
       "    </tr>\n",
       "    <tr>\n",
       "      <th>3527</th>\n",
       "      <td>12542</td>\n",
       "      <td>Zorio, Gilberto</td>\n",
       "      <td>Male</td>\n",
       "      <td>born 1944</td>\n",
       "      <td>1944.0</td>\n",
       "      <td>NaN</td>\n",
       "      <td>Andorno Micca, Italia</td>\n",
       "      <td>NaN</td>\n",
       "      <td>http://www.tate.org.uk/art/artists/gilberto-zo...</td>\n",
       "    </tr>\n",
       "    <tr>\n",
       "      <th>3528</th>\n",
       "      <td>2186</td>\n",
       "      <td>Zox, Larry</td>\n",
       "      <td>Male</td>\n",
       "      <td>born 1936</td>\n",
       "      <td>1936.0</td>\n",
       "      <td>NaN</td>\n",
       "      <td>Des Moines, United States</td>\n",
       "      <td>NaN</td>\n",
       "      <td>http://www.tate.org.uk/art/artists/larry-zox-2186</td>\n",
       "    </tr>\n",
       "    <tr>\n",
       "      <th>3529</th>\n",
       "      <td>621</td>\n",
       "      <td>Zuccarelli, Francesco</td>\n",
       "      <td>Male</td>\n",
       "      <td>1702–1788</td>\n",
       "      <td>1702.0</td>\n",
       "      <td>1788.0</td>\n",
       "      <td>Italia</td>\n",
       "      <td>Firenze</td>\n",
       "      <td>http://www.tate.org.uk/art/artists/francesco-z...</td>\n",
       "    </tr>\n",
       "    <tr>\n",
       "      <th>3530</th>\n",
       "      <td>2187</td>\n",
       "      <td>Zuloaga, Ignacio</td>\n",
       "      <td>Male</td>\n",
       "      <td>1870–1945</td>\n",
       "      <td>1870.0</td>\n",
       "      <td>1945.0</td>\n",
       "      <td>España</td>\n",
       "      <td>España</td>\n",
       "      <td>http://www.tate.org.uk/art/artists/ignacio-zul...</td>\n",
       "    </tr>\n",
       "    <tr>\n",
       "      <th>3531</th>\n",
       "      <td>2188</td>\n",
       "      <td>Zyw, Aleksander</td>\n",
       "      <td>Male</td>\n",
       "      <td>1905–1995</td>\n",
       "      <td>1905.0</td>\n",
       "      <td>1995.0</td>\n",
       "      <td>Polska</td>\n",
       "      <td>NaN</td>\n",
       "      <td>http://www.tate.org.uk/art/artists/aleksander-...</td>\n",
       "    </tr>\n",
       "  </tbody>\n",
       "</table>\n",
       "<p>3532 rows × 9 columns</p>\n",
       "</div>"
      ],
      "text/plain": [
       "         ID                    Name  Gender      Dates  YearOfBirth  \\\n",
       "0     10093  Abakanowicz, Magdalena  Female  born 1930       1930.0   \n",
       "1         0     Abbey, Edwin Austin    Male  1852–1911       1852.0   \n",
       "2      2756        Abbott, Berenice  Female  1898–1991       1898.0   \n",
       "3         1  Abbott, Lemuel Francis    Male  1760–1803       1760.0   \n",
       "4       622          Abrahams, Ivor    Male  born 1935       1935.0   \n",
       "...     ...                     ...     ...        ...          ...   \n",
       "3527  12542         Zorio, Gilberto    Male  born 1944       1944.0   \n",
       "3528   2186              Zox, Larry    Male  born 1936       1936.0   \n",
       "3529    621   Zuccarelli, Francesco    Male  1702–1788       1702.0   \n",
       "3530   2187        Zuloaga, Ignacio    Male  1870–1945       1870.0   \n",
       "3531   2188         Zyw, Aleksander    Male  1905–1995       1905.0   \n",
       "\n",
       "      YearOfDeath                    PlaceOfBirth            PlaceOfDeath  \\\n",
       "0             NaN                          Polska                     NaN   \n",
       "1          1911.0     Philadelphia, United States  London, United Kingdom   \n",
       "2          1991.0      Springfield, United States   Monson, United States   \n",
       "3          1803.0  Leicestershire, United Kingdom  London, United Kingdom   \n",
       "4             NaN           Wigan, United Kingdom                     NaN   \n",
       "...           ...                             ...                     ...   \n",
       "3527          NaN           Andorno Micca, Italia                     NaN   \n",
       "3528          NaN       Des Moines, United States                     NaN   \n",
       "3529       1788.0                          Italia                 Firenze   \n",
       "3530       1945.0                          España                  España   \n",
       "3531       1995.0                          Polska                     NaN   \n",
       "\n",
       "                                                    URL  \n",
       "0     http://www.tate.org.uk/art/artists/magdalena-a...  \n",
       "1     http://www.tate.org.uk/art/artists/edwin-austi...  \n",
       "2     http://www.tate.org.uk/art/artists/berenice-ab...  \n",
       "3     http://www.tate.org.uk/art/artists/lemuel-fran...  \n",
       "4     http://www.tate.org.uk/art/artists/ivor-abraha...  \n",
       "...                                                 ...  \n",
       "3527  http://www.tate.org.uk/art/artists/gilberto-zo...  \n",
       "3528  http://www.tate.org.uk/art/artists/larry-zox-2186  \n",
       "3529  http://www.tate.org.uk/art/artists/francesco-z...  \n",
       "3530  http://www.tate.org.uk/art/artists/ignacio-zul...  \n",
       "3531  http://www.tate.org.uk/art/artists/aleksander-...  \n",
       "\n",
       "[3532 rows x 9 columns]"
      ]
     },
     "execution_count": 7,
     "metadata": {},
     "output_type": "execute_result"
    }
   ],
   "source": [
    "artist_df.rename(columns = {\"id\": \"ID\", \"name\": \"Name\", \"gender\": \"Gender\", \"dates\": \"Dates\", \"yearOfBirth\": \"YearOfBirth\", \"yearOfDeath\": \"YearOfDeath\", \"placeOfBirth\": \"PlaceOfBirth\", \"placeOfDeath\": \"PlaceOfDeath\", \"url\": \"URL\"}, inplace = True)\n",
    "artist_df"
   ]
  },
  {
   "cell_type": "markdown",
   "id": "596a791f",
   "metadata": {},
   "source": [
    "7. Summary Statistics"
   ]
  },
  {
   "cell_type": "code",
   "execution_count": 8,
   "id": "30f5011b",
   "metadata": {},
   "outputs": [
    {
     "data": {
      "text/html": [
       "<div>\n",
       "<style scoped>\n",
       "    .dataframe tbody tr th:only-of-type {\n",
       "        vertical-align: middle;\n",
       "    }\n",
       "\n",
       "    .dataframe tbody tr th {\n",
       "        vertical-align: top;\n",
       "    }\n",
       "\n",
       "    .dataframe thead th {\n",
       "        text-align: right;\n",
       "    }\n",
       "</style>\n",
       "<table border=\"1\" class=\"dataframe\">\n",
       "  <thead>\n",
       "    <tr style=\"text-align: right;\">\n",
       "      <th></th>\n",
       "      <th>ID</th>\n",
       "      <th>Name</th>\n",
       "      <th>Gender</th>\n",
       "      <th>Dates</th>\n",
       "      <th>YearOfBirth</th>\n",
       "      <th>YearOfDeath</th>\n",
       "      <th>PlaceOfBirth</th>\n",
       "      <th>PlaceOfDeath</th>\n",
       "      <th>URL</th>\n",
       "    </tr>\n",
       "  </thead>\n",
       "  <tbody>\n",
       "    <tr>\n",
       "      <th>count</th>\n",
       "      <td>3532.000000</td>\n",
       "      <td>3532</td>\n",
       "      <td>3416</td>\n",
       "      <td>3470</td>\n",
       "      <td>3472.000000</td>\n",
       "      <td>2228.000000</td>\n",
       "      <td>3040</td>\n",
       "      <td>1453</td>\n",
       "      <td>3532</td>\n",
       "    </tr>\n",
       "    <tr>\n",
       "      <th>unique</th>\n",
       "      <td>NaN</td>\n",
       "      <td>3526</td>\n",
       "      <td>2</td>\n",
       "      <td>2104</td>\n",
       "      <td>NaN</td>\n",
       "      <td>NaN</td>\n",
       "      <td>1263</td>\n",
       "      <td>515</td>\n",
       "      <td>3532</td>\n",
       "    </tr>\n",
       "    <tr>\n",
       "      <th>top</th>\n",
       "      <td>NaN</td>\n",
       "      <td>Stokes, Adrian</td>\n",
       "      <td>Male</td>\n",
       "      <td>born 1967</td>\n",
       "      <td>NaN</td>\n",
       "      <td>NaN</td>\n",
       "      <td>London, United Kingdom</td>\n",
       "      <td>London, United Kingdom</td>\n",
       "      <td>http://www.tate.org.uk/art/artists/magdalena-a...</td>\n",
       "    </tr>\n",
       "    <tr>\n",
       "      <th>freq</th>\n",
       "      <td>NaN</td>\n",
       "      <td>2</td>\n",
       "      <td>2895</td>\n",
       "      <td>42</td>\n",
       "      <td>NaN</td>\n",
       "      <td>NaN</td>\n",
       "      <td>446</td>\n",
       "      <td>443</td>\n",
       "      <td>1</td>\n",
       "    </tr>\n",
       "    <tr>\n",
       "      <th>mean</th>\n",
       "      <td>3330.331257</td>\n",
       "      <td>NaN</td>\n",
       "      <td>NaN</td>\n",
       "      <td>NaN</td>\n",
       "      <td>1887.001440</td>\n",
       "      <td>1921.356822</td>\n",
       "      <td>NaN</td>\n",
       "      <td>NaN</td>\n",
       "      <td>NaN</td>\n",
       "    </tr>\n",
       "    <tr>\n",
       "      <th>std</th>\n",
       "      <td>4160.172543</td>\n",
       "      <td>NaN</td>\n",
       "      <td>NaN</td>\n",
       "      <td>NaN</td>\n",
       "      <td>77.140335</td>\n",
       "      <td>79.520671</td>\n",
       "      <td>NaN</td>\n",
       "      <td>NaN</td>\n",
       "      <td>NaN</td>\n",
       "    </tr>\n",
       "    <tr>\n",
       "      <th>min</th>\n",
       "      <td>0.000000</td>\n",
       "      <td>NaN</td>\n",
       "      <td>NaN</td>\n",
       "      <td>NaN</td>\n",
       "      <td>1497.000000</td>\n",
       "      <td>1543.000000</td>\n",
       "      <td>NaN</td>\n",
       "      <td>NaN</td>\n",
       "      <td>NaN</td>\n",
       "    </tr>\n",
       "    <tr>\n",
       "      <th>25%</th>\n",
       "      <td>885.750000</td>\n",
       "      <td>NaN</td>\n",
       "      <td>NaN</td>\n",
       "      <td>NaN</td>\n",
       "      <td>1855.000000</td>\n",
       "      <td>1876.000000</td>\n",
       "      <td>NaN</td>\n",
       "      <td>NaN</td>\n",
       "      <td>NaN</td>\n",
       "    </tr>\n",
       "    <tr>\n",
       "      <th>50%</th>\n",
       "      <td>1772.500000</td>\n",
       "      <td>NaN</td>\n",
       "      <td>NaN</td>\n",
       "      <td>NaN</td>\n",
       "      <td>1910.000000</td>\n",
       "      <td>1944.000000</td>\n",
       "      <td>NaN</td>\n",
       "      <td>NaN</td>\n",
       "      <td>NaN</td>\n",
       "    </tr>\n",
       "    <tr>\n",
       "      <th>75%</th>\n",
       "      <td>2676.250000</td>\n",
       "      <td>NaN</td>\n",
       "      <td>NaN</td>\n",
       "      <td>NaN</td>\n",
       "      <td>1941.000000</td>\n",
       "      <td>1983.000000</td>\n",
       "      <td>NaN</td>\n",
       "      <td>NaN</td>\n",
       "      <td>NaN</td>\n",
       "    </tr>\n",
       "    <tr>\n",
       "      <th>max</th>\n",
       "      <td>18896.000000</td>\n",
       "      <td>NaN</td>\n",
       "      <td>NaN</td>\n",
       "      <td>NaN</td>\n",
       "      <td>2004.000000</td>\n",
       "      <td>2014.000000</td>\n",
       "      <td>NaN</td>\n",
       "      <td>NaN</td>\n",
       "      <td>NaN</td>\n",
       "    </tr>\n",
       "  </tbody>\n",
       "</table>\n",
       "</div>"
      ],
      "text/plain": [
       "                  ID            Name Gender      Dates  YearOfBirth  \\\n",
       "count    3532.000000            3532   3416       3470  3472.000000   \n",
       "unique           NaN            3526      2       2104          NaN   \n",
       "top              NaN  Stokes, Adrian   Male  born 1967          NaN   \n",
       "freq             NaN               2   2895         42          NaN   \n",
       "mean     3330.331257             NaN    NaN        NaN  1887.001440   \n",
       "std      4160.172543             NaN    NaN        NaN    77.140335   \n",
       "min         0.000000             NaN    NaN        NaN  1497.000000   \n",
       "25%       885.750000             NaN    NaN        NaN  1855.000000   \n",
       "50%      1772.500000             NaN    NaN        NaN  1910.000000   \n",
       "75%      2676.250000             NaN    NaN        NaN  1941.000000   \n",
       "max     18896.000000             NaN    NaN        NaN  2004.000000   \n",
       "\n",
       "        YearOfDeath            PlaceOfBirth            PlaceOfDeath  \\\n",
       "count   2228.000000                    3040                    1453   \n",
       "unique          NaN                    1263                     515   \n",
       "top             NaN  London, United Kingdom  London, United Kingdom   \n",
       "freq            NaN                     446                     443   \n",
       "mean    1921.356822                     NaN                     NaN   \n",
       "std       79.520671                     NaN                     NaN   \n",
       "min     1543.000000                     NaN                     NaN   \n",
       "25%     1876.000000                     NaN                     NaN   \n",
       "50%     1944.000000                     NaN                     NaN   \n",
       "75%     1983.000000                     NaN                     NaN   \n",
       "max     2014.000000                     NaN                     NaN   \n",
       "\n",
       "                                                      URL  \n",
       "count                                                3532  \n",
       "unique                                               3532  \n",
       "top     http://www.tate.org.uk/art/artists/magdalena-a...  \n",
       "freq                                                    1  \n",
       "mean                                                  NaN  \n",
       "std                                                   NaN  \n",
       "min                                                   NaN  \n",
       "25%                                                   NaN  \n",
       "50%                                                   NaN  \n",
       "75%                                                   NaN  \n",
       "max                                                   NaN  "
      ]
     },
     "execution_count": 8,
     "metadata": {},
     "output_type": "execute_result"
    }
   ],
   "source": [
    "artist_df.describe(include='all')"
   ]
  },
  {
   "cell_type": "markdown",
   "id": "7fce45ae",
   "metadata": {},
   "source": [
    "8. Check for Duplicates"
   ]
  },
  {
   "cell_type": "code",
   "execution_count": 9,
   "id": "3100dfea",
   "metadata": {
    "scrolled": true
   },
   "outputs": [
    {
     "data": {
      "text/plain": [
       "0       False\n",
       "1       False\n",
       "2       False\n",
       "3       False\n",
       "4       False\n",
       "        ...  \n",
       "3527    False\n",
       "3528    False\n",
       "3529    False\n",
       "3530    False\n",
       "3531    False\n",
       "Length: 3532, dtype: bool"
      ]
     },
     "execution_count": 9,
     "metadata": {},
     "output_type": "execute_result"
    }
   ],
   "source": [
    "artist_df.duplicated(keep = False)"
   ]
  },
  {
   "cell_type": "code",
   "execution_count": 10,
   "id": "92a316f1",
   "metadata": {},
   "outputs": [
    {
     "data": {
      "text/html": [
       "<div>\n",
       "<style scoped>\n",
       "    .dataframe tbody tr th:only-of-type {\n",
       "        vertical-align: middle;\n",
       "    }\n",
       "\n",
       "    .dataframe tbody tr th {\n",
       "        vertical-align: top;\n",
       "    }\n",
       "\n",
       "    .dataframe thead th {\n",
       "        text-align: right;\n",
       "    }\n",
       "</style>\n",
       "<table border=\"1\" class=\"dataframe\">\n",
       "  <thead>\n",
       "    <tr style=\"text-align: right;\">\n",
       "      <th></th>\n",
       "      <th>ID</th>\n",
       "      <th>Name</th>\n",
       "      <th>Gender</th>\n",
       "      <th>Dates</th>\n",
       "      <th>YearOfBirth</th>\n",
       "      <th>YearOfDeath</th>\n",
       "      <th>PlaceOfBirth</th>\n",
       "      <th>PlaceOfDeath</th>\n",
       "      <th>URL</th>\n",
       "    </tr>\n",
       "  </thead>\n",
       "  <tbody>\n",
       "  </tbody>\n",
       "</table>\n",
       "</div>"
      ],
      "text/plain": [
       "Empty DataFrame\n",
       "Columns: [ID, Name, Gender, Dates, YearOfBirth, YearOfDeath, PlaceOfBirth, PlaceOfDeath, URL]\n",
       "Index: []"
      ]
     },
     "execution_count": 10,
     "metadata": {},
     "output_type": "execute_result"
    }
   ],
   "source": [
    "artist_df[artist_df.duplicated(keep = False)]"
   ]
  },
  {
   "cell_type": "markdown",
   "id": "e0b7a8fd",
   "metadata": {},
   "source": [
    "No duplicate rows"
   ]
  },
  {
   "cell_type": "code",
   "execution_count": null,
   "id": "0d75ff86",
   "metadata": {},
   "outputs": [],
   "source": []
  },
  {
   "cell_type": "markdown",
   "id": "79b40f52",
   "metadata": {},
   "source": [
    "9. Questions:"
   ]
  },
  {
   "cell_type": "markdown",
   "id": "bc186a65",
   "metadata": {},
   "source": [
    "(1) Which country is the popular birthplace for artists? How about deathplace?"
   ]
  },
  {
   "cell_type": "markdown",
   "id": "50c5d36e",
   "metadata": {},
   "source": [
    "1) Read files"
   ]
  },
  {
   "cell_type": "code",
   "execution_count": 24,
   "id": "623563ce",
   "metadata": {},
   "outputs": [],
   "source": [
    "country_of_birth_df = pd.read_csv('artist_data.csv', usecols = [6], names = None)\n",
    "country_of_death_df = pd.read_csv('artist_data.csv', usecols = [7], names = None)"
   ]
  },
  {
   "cell_type": "markdown",
   "id": "fd6c53ef",
   "metadata": {},
   "source": [
    "2) Write a function to get the top 20 most frequent countries"
   ]
  },
  {
   "cell_type": "code",
   "execution_count": 25,
   "id": "f8fd10ea",
   "metadata": {},
   "outputs": [],
   "source": [
    "import numpy as np\n",
    "from collections import Counter\n",
    "\n",
    "def get_country(text):\n",
    "    country_list = text.values.tolist()\n",
    "    new_country_list = list(np.ravel(country_list))\n",
    "    artist_country = []\n",
    "    for item in (new_country_list):\n",
    "        if \",\" in item:\n",
    "            artist_country.append(item.split(', ')[-1])\n",
    "        else:\n",
    "            artist_country.append(item)\n",
    "    return Counter(artist_country).most_common(20)"
   ]
  },
  {
   "cell_type": "markdown",
   "id": "25c06882",
   "metadata": {},
   "source": [
    "3) Write a function to get the dataframe of the top 20 most frequent countries"
   ]
  },
  {
   "cell_type": "code",
   "execution_count": 28,
   "id": "1c0d2fb3",
   "metadata": {},
   "outputs": [],
   "source": [
    "def get_country_frequency(country):\n",
    "    country_frequency = get_country(country)\n",
    "    country_frequency_df = pd.DataFrame(country_frequency, columns = ['country', 'country_count'])\n",
    "    return country_frequency_df.sort_values(by = 'country_count')"
   ]
  },
  {
   "cell_type": "markdown",
   "id": "0425bd67",
   "metadata": {},
   "source": [
    "4) Plot the dataframe to a bar chart"
   ]
  },
  {
   "cell_type": "code",
   "execution_count": 29,
   "id": "bdc5a2ff",
   "metadata": {},
   "outputs": [
    {
     "data": {
      "text/plain": [
       "<AxesSubplot:title={'center':'Country of Birth'}, ylabel='country'>"
      ]
     },
     "execution_count": 29,
     "metadata": {},
     "output_type": "execute_result"
    },
    {
     "data": {
      "image/png": "[encoded data removed]",
      "text/plain": [
       "<Figure size 432x288 with 1 Axes>"
      ]
     },
     "metadata": {
      "needs_background": "light"
     },
     "output_type": "display_data"
    }
   ],
   "source": [
    "get_country_frequency(country_of_birth_df).plot(x = 'country', kind = 'barh', title = 'Country of Birth')"
   ]
  },
  {
   "cell_type": "code",
   "execution_count": 30,
   "id": "026cbb39",
   "metadata": {
    "scrolled": true
   },
   "outputs": [
    {
     "data": {
      "text/plain": [
       "<AxesSubplot:title={'center':'Country of Death'}, ylabel='country'>"
      ]
     },
     "execution_count": 30,
     "metadata": {},
     "output_type": "execute_result"
    },
    {
     "data": {
      "image/png": "[encoded data removed]",
      "text/plain": [
       "<Figure size 432x288 with 1 Axes>"
      ]
     },
     "metadata": {
      "needs_background": "light"
     },
     "output_type": "display_data"
    }
   ],
   "source": [
    "get_country_frequency(country_of_death_df).plot(x = 'country', kind = 'barh', title = 'Country of Death')"
   ]
  },
  {
   "cell_type": "markdown",
   "id": "5ec226b1",
   "metadata": {},
   "source": [
    "As we can see above, the majority of artists were born in the United Kingdom. Apart from those who we failed to track, the United States, France, Deutschland, and Italy also have many artists.\n",
    "\n",
    "However, we failed to track the place of death for the majority of artists. For those in the record, the five of them are also the top five countries that artists chose to live in their old age, although there are some differences. The United Kingdom is still the most popular one. However, about half artists moved to other countries as time goes by. France moved to second while the United States fell to third, the same goes for Deutschland and Italy."
   ]
  },
  {
   "cell_type": "markdown",
   "id": "6ee429a2",
   "metadata": {},
   "source": [
    "(2) As time goes by, are there more male artists or female artists?"
   ]
  },
  {
   "cell_type": "markdown",
   "id": "be293677",
   "metadata": {},
   "source": [
    "1) Make a boxplot of the number of birth year of the artists by gender"
   ]
  },
  {
   "cell_type": "code",
   "execution_count": 94,
   "id": "061387a2",
   "metadata": {},
   "outputs": [
    {
     "data": {
      "image/png": "[encoded data removed]",
      "text/plain": [
       "<Figure size 432x288 with 1 Axes>"
      ]
     },
     "metadata": {
      "needs_background": "light"
     },
     "output_type": "display_data"
    }
   ],
   "source": [
    "import seaborn as sns\n",
    "import matplotlib.pyplot as plt\n",
    "\n",
    "sns.boxplot(data = artist_df, x = 'YearOfBirth', y = 'Gender')\n",
    "plt.show()"
   ]
  },
  {
   "cell_type": "markdown",
   "id": "1a4dc101",
   "metadata": {},
   "source": [
    "2) Write a function to get the number of birth year of the artists by gender"
   ]
  },
  {
   "cell_type": "code",
   "execution_count": 31,
   "id": "7328b53f",
   "metadata": {},
   "outputs": [],
   "source": [
    "def gender_number(gender):\n",
    "    artist_gender = artist_df['Gender'] == gender\n",
    "    artist_gender_df = artist_df[artist_gender]\n",
    "    return artist_gender_df.groupby('YearOfBirth')['Gender'].count().reset_index()"
   ]
  },
  {
   "cell_type": "markdown",
   "id": "38100e90",
   "metadata": {},
   "source": [
    "3) Make a line plot of the number of birth year of the artists by gender"
   ]
  },
  {
   "cell_type": "code",
   "execution_count": 35,
   "id": "8fcc6b3c",
   "metadata": {},
   "outputs": [
    {
     "data": {
      "text/plain": [
       "<AxesSubplot:title={'center':'Year of Birth'}, xlabel='YearOfBirth'>"
      ]
     },
     "execution_count": 35,
     "metadata": {},
     "output_type": "execute_result"
    },
    {
     "data": {
      "image/png": "[encoded data removed]",
      "text/plain": [
       "<Figure size 432x288 with 1 Axes>"
      ]
     },
     "metadata": {
      "needs_background": "light"
     },
     "output_type": "display_data"
    }
   ],
   "source": [
    "ax = gender_number('Male').plot(kind = 'line', x = 'YearOfBirth', y = 'Gender', label = 'Male', legend = True, title = 'Year of Birth')\n",
    "gender_number('Female').plot(ax = ax, x = 'YearOfBirth', y = 'Gender', label = 'Female', legend = True)"
   ]
  },
  {
   "cell_type": "markdown",
   "id": "4f84055c",
   "metadata": {},
   "source": [
    "As we can see from Summary Statistics above, there are some artists that we are not sure their gender. For these we have the information, we can tell that the trend of male and female are almost the same, starting from one or two in 1500, increasing in 1700, reaching a peak around 1930, and soon decreasing to one or two in 2000.\n",
    "\n",
    "However, we can tell that generally, the number of male artists are much more than female artists almost every year. There are a few male artists before 1630, while almost no female artist at that time. Although the number of female artists increases from 1800, the number of female artists is much samller than male's, even in its peak - around 1970. The only period that have the same male and female artists is 1980 or so."
   ]
  }
 ],
 "metadata": {
  "kernelspec": {
   "display_name": "Python 3 (ipykernel)",
   "language": "python",
   "name": "python3"
  },
  "language_info": {
   "codemirror_mode": {
    "name": "ipython",
    "version": 3
   },
   "file_extension": ".py",
   "mimetype": "text/x-python",
   "name": "python",
   "nbconvert_exporter": "python",
   "pygments_lexer": "ipython3",
   "version": "3.9.12"
  }
 },
 "nbformat": 4,
 "nbformat_minor": 5
}
