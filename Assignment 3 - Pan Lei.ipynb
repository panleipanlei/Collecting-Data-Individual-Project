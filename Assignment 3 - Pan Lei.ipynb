{
 "cells": [
  {
   "cell_type": "code",
   "execution_count": 11,
   "id": "c94a6621",
   "metadata": {},
   "outputs": [],
   "source": [
    "import requests\n",
    "from bs4 import BeautifulSoup\n",
    "\n",
    "def scrape_songs(url_link):\n",
    "    response = requests.get(url_link)\n",
    "    html_string = response.text\n",
    "    document = BeautifulSoup(html_string, \"html.parser\")\n",
    "    text = document.find(\"div\", attrs={\"class\": \"col-xs-12 col-lg-8 text-center\"}).text.strip()\n",
    "    clean_text = text.split('\\n')\n",
    "    for line in clean_text:\n",
    "        if '' in clean_text:\n",
    "            clean_text.remove('')\n",
    "    return clean_text\n",
    "\n",
    "def scrape_artist(text):\n",
    "    text = scrape_songs(text)\n",
    "    artist = text[1][:-7]\n",
    "    return artist\n",
    "\n",
    "def scrape_title(text):\n",
    "    text = scrape_songs(text)\n",
    "    artist = text[2]\n",
    "    return artist"
   ]
  },
  {
   "cell_type": "code",
   "execution_count": 12,
   "id": "329321d0",
   "metadata": {},
   "outputs": [
    {
     "name": "stdout",
     "output_type": "stream",
     "text": [
      "['Taylor Swift', 'Christina Perri', 'Whitney Houston']\n"
     ]
    }
   ],
   "source": [
    "artist_list = []\n",
    "artist_list.append(scrape_artist(\"https://www.azlyrics.com/lyrics/taylorswift/lovestory.html\"))\n",
    "artist_list.append(scrape_artist(\"https://www.azlyrics.com/lyrics/christinaperri/athousandyears.html\"))\n",
    "artist_list.append(scrape_artist(\"https://www.azlyrics.com/lyrics/whitneyhouston/onemomentintime.html\"))\n",
    "print(artist_list)"
   ]
  },
  {
   "cell_type": "code",
   "execution_count": 13,
   "id": "1b854623",
   "metadata": {},
   "outputs": [
    {
     "name": "stdout",
     "output_type": "stream",
     "text": [
      "['\"Love Story\"', '\"A Thousand Years\"', '\"One Moment In Time\"']\n"
     ]
    }
   ],
   "source": [
    "title_list = []\n",
    "title_list.append(scrape_title(\"https://www.azlyrics.com/lyrics/taylorswift/lovestory.html\"))\n",
    "title_list.append(scrape_title(\"https://www.azlyrics.com/lyrics/christinaperri/athousandyears.html\"))\n",
    "title_list.append(scrape_title(\"https://www.azlyrics.com/lyrics/whitneyhouston/onemomentintime.html\"))\n",
    "print(title_list)"
   ]
  },
  {
   "cell_type": "code",
   "execution_count": 14,
   "id": "dd3c3011",
   "metadata": {},
   "outputs": [
    {
     "name": "stdout",
     "output_type": "stream",
     "text": [
      "['We were both young when I first saw you,I close my eyes and the flashback starts:,I\\'m standing there,On a balcony in summer air,See the lights, see the party, the ball gowns,See you make your way through the crowd,And say, \"Hello.\",Little did I know,That you were Romeo, you were throwing pebbles,And my daddy said, \"Stay away from Juliet.\",And I was crying on the staircase,Begging you, \"Please don\\'t go.\",And I said,\"Romeo, take me somewhere we can be alone,I\\'ll be waiting. All there\\'s left to do is run,You\\'ll be the prince and I\\'ll be the princess,It\\'s a love story. Baby, just say \\'Yes\\'.\",So, I sneak out to the garden to see you,We keep quiet \\'cause we\\'re dead if they knew,So, close your eyes,Escape this town for a little while,Oh, oh,\\'Cause you were Romeo. I was a scarlet letter,And my daddy said, \"Stay away from Juliet.\",But you were everything to me,I was begging you, \"Please don\\'t go!\",And I said,\"Romeo, take me somewhere we can be alone,I\\'ll be waiting. All there\\'s left to do is run,You\\'ll be the prince and I\\'ll be the princess,It\\'s a love story. Baby, just say \\'Yes\\',Romeo, save me. They\\'re trying to tell me how to feel,This love is difficult but it\\'s real,Don\\'t be afraid. We\\'ll make it out of this mess,It\\'s a love story. Baby, just say \\'Yes\\'.\",Oh, oh, oh,I got tired of waiting,Wondering if you were ever coming around,My faith in you was fading,When I met you on the outskirts of town,And I said,\"Romeo, save me. I\\'ve been feeling so alone,I keep waiting for you, but you never come,Is this in my head? I don\\'t know what to think.\",He knelt to the ground and pulled out a ring and said,\"Marry me, Juliet. You\\'ll never have to be alone,I love you, and that\\'s all I really know,I talked to your dad. Go pick out a white dress,It\\'s a love story. Baby, just say \\'Yes\\'.\",Oh, oh, oh, oh, oh, oh,\\'Cause we were both young when I first saw you', \"Heart beats fast,Colours and promises,How to be brave?,How can I love when I'm afraid to fall?,But watching you stand alone,All of my doubt,Suddenly goes away somehow,One step closer,I have died every day waiting for you,Darling, don't be afraid,I have loved you for a thousand years,I'll love you for a thousand more,Time stands still,Beauty in all she is,I will be brave,I will not let anything take away,What's standing in front of me,Every breath,Every hour has come to this,One step closer,I have died every day waiting for you,Darling, don't be afraid,I have loved you for a thousand years,I'll love you for a thousand more,And all along I believed I would find you,Time has brought your heart to me,I have loved you for a thousand years,I'll love you for a thousand more,One step closer,One step closer,I have died every day waiting for you,Darling, don't be afraid,I have loved you for a thousand years,I'll love you for a thousand more,And all along I believed I would find you,Time has brought your heart to me,I have loved you for a thousand years,I'll love you for a thousand more\", \"Each day I live,I want to be,A day to give,The best of me,I'm only one,But not alone,My finest day,Is yet unknown,I broke my heart,Fought every gain,To taste the sweet,I face the pain,I rise and fall,Yet through it all,This much remains,I want one moment in time,When I'm more than I thought I could be,When all of my dreams are a heartbeat away,And the answers are all up to me,Give me one moment in time,When I'm racing with destiny,Then in that one moment of time,I will feel,I will feel eternity,I've lived to be,The very best,I want it all,No time for less,I've laid the plans,Now lay the chance,Here in my hands,I want one moment in time,When I'm more than I thought I could be,When all of my dreams are a heartbeat away,And the answers are all up to me,Give me one moment in time,When I'm racing with destiny,Then in that one moment of time,I will feel,I will feel eternity,You're a winner for a lifetime,If you seize that one moment in time,Make it shine,I want one moment in time,When I'm more than I thought I could be,When all of my dreams are a heartbeat away,And the answers are all up to me,Give me one moment in time,When I'm racing with destiny,Then in that one moment of time,I will feel,I will feel eternity,I will be,I will be,I will be free, yeah,I will be,I will be free\"]\n"
     ]
    }
   ],
   "source": [
    "clean_text_1 = scrape_songs(\"https://www.azlyrics.com/lyrics/taylorswift/lovestory.html\")\n",
    "lyrics_1 = clean_text_1[4:55]\n",
    "clean_text_2 = scrape_songs(\"https://www.azlyrics.com/lyrics/christinaperri/athousandyears.html\")\n",
    "lyrics_2 = clean_text_2[5:43]\n",
    "clean_text_3 = scrape_songs(\"https://www.azlyrics.com/lyrics/whitneyhouston/onemomentintime.html\")\n",
    "lyrics_3 = clean_text_3[4:61]\n",
    "\n",
    "new_lyrics_1 = ','.join(lyrics_1)\n",
    "new_lyrics_2 = ','.join(lyrics_2)\n",
    "new_lyrics_3 = ','.join(lyrics_3)\n",
    "\n",
    "lyrics_list = []\n",
    "lyrics_list.append(new_lyrics_1)\n",
    "lyrics_list.append(new_lyrics_2)\n",
    "lyrics_list.append(new_lyrics_3)\n",
    "print(lyrics_list)"
   ]
  },
  {
   "cell_type": "code",
   "execution_count": 59,
   "id": "dd304f87",
   "metadata": {},
   "outputs": [
    {
     "data": {
      "text/html": [
       "<div>\n",
       "<style scoped>\n",
       "    .dataframe tbody tr th:only-of-type {\n",
       "        vertical-align: middle;\n",
       "    }\n",
       "\n",
       "    .dataframe tbody tr th {\n",
       "        vertical-align: top;\n",
       "    }\n",
       "\n",
       "    .dataframe thead th {\n",
       "        text-align: right;\n",
       "    }\n",
       "</style>\n",
       "<table border=\"1\" class=\"dataframe\">\n",
       "  <thead>\n",
       "    <tr style=\"text-align: right;\">\n",
       "      <th></th>\n",
       "      <th>Artist</th>\n",
       "      <th>Title</th>\n",
       "      <th>Lyrics</th>\n",
       "    </tr>\n",
       "  </thead>\n",
       "  <tbody>\n",
       "    <tr>\n",
       "      <th>0</th>\n",
       "      <td>Taylor Swift</td>\n",
       "      <td>\"Love Story\"</td>\n",
       "      <td>We were both young when I first saw you,I clos...</td>\n",
       "    </tr>\n",
       "    <tr>\n",
       "      <th>1</th>\n",
       "      <td>Christina Perri</td>\n",
       "      <td>\"A Thousand Years\"</td>\n",
       "      <td>Heart beats fast,Colours and promises,How to b...</td>\n",
       "    </tr>\n",
       "    <tr>\n",
       "      <th>2</th>\n",
       "      <td>Whitney Houston</td>\n",
       "      <td>\"One Moment In Time\"</td>\n",
       "      <td>Each day I live,I want to be,A day to give,The...</td>\n",
       "    </tr>\n",
       "  </tbody>\n",
       "</table>\n",
       "</div>"
      ],
      "text/plain": [
       "            Artist                 Title  \\\n",
       "0     Taylor Swift          \"Love Story\"   \n",
       "1  Christina Perri    \"A Thousand Years\"   \n",
       "2  Whitney Houston  \"One Moment In Time\"   \n",
       "\n",
       "                                              Lyrics  \n",
       "0  We were both young when I first saw you,I clos...  \n",
       "1  Heart beats fast,Colours and promises,How to b...  \n",
       "2  Each day I live,I want to be,A day to give,The...  "
      ]
     },
     "execution_count": 59,
     "metadata": {},
     "output_type": "execute_result"
    }
   ],
   "source": [
    "import pandas as pd\n",
    "data = {'Artist': artist_list, 'Title': title_list, 'Lyrics': lyrics_list}\n",
    "df = pd.DataFrame(data)\n",
    "df"
   ]
  },
  {
   "cell_type": "code",
   "execution_count": null,
   "id": "323649c6",
   "metadata": {},
   "outputs": [],
   "source": []
  }
 ],
 "metadata": {
  "kernelspec": {
   "display_name": "Python 3 (ipykernel)",
   "language": "python",
   "name": "python3"
  },
  "language_info": {
   "codemirror_mode": {
    "name": "ipython",
    "version": 3
   },
   "file_extension": ".py",
   "mimetype": "text/x-python",
   "name": "python",
   "nbconvert_exporter": "python",
   "pygments_lexer": "ipython3",
   "version": "3.9.12"
  }
 },
 "nbformat": 4,
 "nbformat_minor": 5
}
